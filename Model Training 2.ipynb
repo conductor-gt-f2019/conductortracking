{
 "cells": [
  {
   "cell_type": "code",
   "execution_count": 7,
   "metadata": {},
   "outputs": [],
   "source": [
    "import torch\n",
    "import torch.nn as nn\n",
    "import torch.optim as optim\n",
    "from torch.optim import lr_scheduler\n",
    "import numpy as np\n",
    "import torchvision\n",
    "from torchvision import datasets, models, transforms\n",
    "import matplotlib.pyplot as plt\n",
    "import time\n",
    "import os\n",
    "import copy"
   ]
  },
  {
   "cell_type": "markdown",
   "metadata": {},
   "source": [
    "## Setup"
   ]
  },
  {
   "cell_type": "code",
   "execution_count": 8,
   "metadata": {},
   "outputs": [
    {
     "name": "stdout",
     "output_type": "stream",
     "text": "cuda:0\n"
    }
   ],
   "source": [
    "data_transforms = {\n",
    "    'train': transforms.Compose([\n",
    "        transforms.RandomResizedCrop(224),\n",
    "        transforms.ToTensor(),\n",
    "        transforms.Normalize((0.5, 0.5, 0.5), (0.5, 0.5, 0.5))\n",
    "    ]),\n",
    "    'val': transforms.Compose([\n",
    "        transforms.Resize(256),\n",
    "        transforms.CenterCrop(224),\n",
    "        transforms.ToTensor(),\n",
    "        transforms.Normalize((0.5, 0.5, 0.5), (0.5, 0.5, 0.5))\n",
    "    ]),\n",
    "}\n",
    "\n",
    "data_dir = 'data'\n",
    "\n",
    "image_datasets = {x: datasets.ImageFolder(os.path.join(\n",
    "    data_dir, x), data_transforms[x]) for x in ['train', 'val']}\n",
    "\n",
    "dataloaders = {x: torch.utils.data.DataLoader(image_datasets[x], batch_size=4,\n",
    "                                              shuffle=True, num_workers=4)\n",
    "               for x in ['train', 'val']}\n",
    "\n",
    "dataset_sizes = {x: len(image_datasets[x]) for x in ['train', 'val']}\n",
    "class_names = image_datasets['train'].classes\n",
    "\n",
    "device = torch.device(\"cuda:0\" if torch.cuda.is_available() else \"cpu\")\n",
    "print(device)"
   ]
  },
  {
   "cell_type": "code",
   "execution_count": 9,
   "metadata": {},
   "outputs": [],
   "source": [
    "def train_model(model, criterion, optimizer, scheduler, num_epochs=25):\n",
    "    since = time.time()\n",
    "\n",
    "    best_model_wts = copy.deepcopy(model.state_dict())\n",
    "    best_acc = 0.0\n",
    "    best_epoch = 0\n",
    "\n",
    "    # Keep track of training history so we can report on overfitting, etc.\n",
    "    hist = {\n",
    "        \"running_loss\": [],\n",
    "        \"running_acc\": [],\n",
    "        \"val_loss\": [],\n",
    "        \"val_acc\": []\n",
    "    }\n",
    "\n",
    "    for epoch in range(num_epochs):\n",
    "        print('Epoch {}/{}'.format(epoch, num_epochs - 1))\n",
    "        print('-' * 10)\n",
    "\n",
    "\n",
    "        # Each epoch has a training and validation phase\n",
    "        for phase in ['train', 'val']:\n",
    "            if phase == 'train':\n",
    "                model.train()  # Set model to training mode\n",
    "            else:\n",
    "                model.eval()   # Set model to evaluate mode\n",
    "\n",
    "            running_loss = 0.0\n",
    "            running_corrects = 0\n",
    "\n",
    "            # Iterate over data.\n",
    "            for inputs, labels in dataloaders[phase]:\n",
    "                inputs = inputs.to(device)\n",
    "                labels = labels.to(device)\n",
    "\n",
    "                # zero the parameter gradients\n",
    "                optimizer.zero_grad()\n",
    "\n",
    "                # forward\n",
    "                # track history if only in train\n",
    "                with torch.set_grad_enabled(phase == 'train'):\n",
    "                    outputs = model(inputs)\n",
    "                    _, preds = torch.max(outputs, 1)\n",
    "                    loss = criterion(outputs, labels)\n",
    "\n",
    "                    # backward + optimize only if in training phase\n",
    "                    if phase == 'train':\n",
    "                        loss.backward()\n",
    "                        optimizer.step()\n",
    "\n",
    "                # statistics\n",
    "                running_loss += loss.item() * inputs.size(0)\n",
    "                running_corrects += torch.sum(preds == labels.data)\n",
    "            if phase == 'train':\n",
    "                scheduler.step()\n",
    "\n",
    "            epoch_loss = running_loss / dataset_sizes[phase]\n",
    "            epoch_acc = running_corrects.double() / dataset_sizes[phase]\n",
    "\n",
    "            print('{} Loss: {:.4f} Acc: {:.4f}'.format(\n",
    "                phase, epoch_loss, epoch_acc))\n",
    "\n",
    "            if phase == \"train\":\n",
    "                hist['running_loss'].append(epoch_loss)\n",
    "                hist['running_acc'].append(epoch_acc)\n",
    "            elif phase == \"val\":\n",
    "                hist['val_loss'].append(epoch_loss)\n",
    "                hist['val_acc'].append(epoch_acc)\n",
    "\n",
    "            # deep copy the model\n",
    "            if phase == 'val' and epoch_acc > best_acc:\n",
    "                best_acc = epoch_acc\n",
    "                best_model_wts = copy.deepcopy(model.state_dict())\n",
    "                best_epoch = epoch\n",
    "\n",
    "        print()\n",
    "\n",
    "    time_elapsed = time.time() - since\n",
    "    print('Training complete in {:.0f}m {:.0f}s'.format(\n",
    "        time_elapsed // 60, time_elapsed % 60))\n",
    "    # print('Best val Acc: {:4f}'.format(best_acc))\n",
    "    # print('Best model occurred after ' + str(best_epoch) + ' epochs.')\n",
    "\n",
    "    # load best model weights\n",
    "    # model.load_state_dict(best_model_wts)\n",
    "    return model, hist"
   ]
  },
  {
   "cell_type": "markdown",
   "metadata": {},
   "source": [
    "## Run Model"
   ]
  },
  {
   "cell_type": "code",
   "execution_count": 10,
   "metadata": {},
   "outputs": [
    {
     "name": "stdout",
     "output_type": "stream",
     "text": "Epoch 0/24\n----------\ntrain Loss: 0.9064 Acc: 0.5960\nval Loss: 0.6068 Acc: 0.7306\n\nEpoch 1/24\n----------\ntrain Loss: 0.7364 Acc: 0.6931\nval Loss: 0.1320 Acc: 0.9824\n\nEpoch 2/24\n----------\ntrain Loss: 0.6154 Acc: 0.7393\nval Loss: 0.1185 Acc: 0.9842\n\nEpoch 3/24\n----------\ntrain Loss: 0.5614 Acc: 0.7672\nval Loss: 0.2174 Acc: 0.9067\n\nEpoch 4/24\n----------\ntrain Loss: 0.5451 Acc: 0.7773\nval Loss: 1.5971 Acc: 0.2623\n\nEpoch 5/24\n----------\ntrain Loss: 0.5092 Acc: 0.7950\nval Loss: 0.0617 Acc: 0.9930\n\nEpoch 6/24\n----------\ntrain Loss: 0.5005 Acc: 0.8009\nval Loss: 0.0883 Acc: 0.9789\n\nEpoch 7/24\n----------\ntrain Loss: 0.5048 Acc: 0.7938\nval Loss: 0.0249 Acc: 0.9982\n\nEpoch 8/24\n----------\ntrain Loss: 0.4413 Acc: 0.8223\nval Loss: 0.0344 Acc: 0.9930\n\nEpoch 9/24\n----------\ntrain Loss: 0.4081 Acc: 0.8383\nval Loss: 0.3088 Acc: 0.8908\n\nEpoch 10/24\n----------\ntrain Loss: 0.3662 Acc: 0.8501\nval Loss: 0.0202 Acc: 0.9982\n\nEpoch 11/24\n----------\ntrain Loss: 0.3763 Acc: 0.8483\nval Loss: 0.0155 Acc: 0.9965\n\nEpoch 12/24\n----------\ntrain Loss: 0.3219 Acc: 0.8762\nval Loss: 0.0138 Acc: 0.9982\n\nEpoch 13/24\n----------\ntrain Loss: 0.3448 Acc: 0.8578\nval Loss: 0.0293 Acc: 0.9912\n\nEpoch 14/24\n----------\ntrain Loss: 0.2814 Acc: 0.8868\nval Loss: 0.0156 Acc: 0.9965\n\nEpoch 15/24\n----------\ntrain Loss: 0.3179 Acc: 0.8685\nval Loss: 0.0122 Acc: 0.9982\n\nEpoch 16/24\n----------\ntrain Loss: 0.3427 Acc: 0.8560\nval Loss: 0.0121 Acc: 0.9982\n\nEpoch 17/24\n----------\ntrain Loss: 0.3228 Acc: 0.8620\nval Loss: 0.0159 Acc: 0.9965\n\nEpoch 18/24\n----------\ntrain Loss: 0.3145 Acc: 0.8756\nval Loss: 0.0167 Acc: 1.0000\n\nEpoch 19/24\n----------\ntrain Loss: 0.2763 Acc: 0.8904\nval Loss: 0.0218 Acc: 0.9982\n\nEpoch 20/24\n----------\ntrain Loss: 0.2902 Acc: 0.8797\nval Loss: 0.0145 Acc: 0.9965\n\nEpoch 21/24\n----------\ntrain Loss: 0.2798 Acc: 0.8851\nval Loss: 0.0160 Acc: 0.9982\n\nEpoch 22/24\n----------\ntrain Loss: 0.2800 Acc: 0.8780\nval Loss: 0.0161 Acc: 0.9982\n\nEpoch 23/24\n----------\ntrain Loss: 0.2896 Acc: 0.8851\nval Loss: 0.0165 Acc: 0.9965\n\nEpoch 24/24\n----------\ntrain Loss: 0.2856 Acc: 0.8762\nval Loss: 0.0189 Acc: 0.9965\n\nTraining complete in 13m 3s\n"
    }
   ],
   "source": [
    "# Load pretrained resnet18 model\n",
    "model_ft = models.resnet18(pretrained=True)\n",
    "num_ftrs = model_ft.fc.in_features\n",
    "# Set number of output features to 3 (\"2_2\", \"3_4\", \"4_4\")\n",
    "model_ft.fc = nn.Linear(num_ftrs, 3)\n",
    "\n",
    "model_ft = model_ft.to(device)\n",
    "criterion = nn.CrossEntropyLoss()\n",
    "optimizer_ft = optim.Adam(model_ft.parameters(), lr=0.001)\n",
    "exp_lr_scheduler = lr_scheduler.StepLR(optimizer_ft, step_size=10, gamma=0.1)\n",
    "model_ft, hist = train_model(model_ft, criterion, optimizer_ft, exp_lr_scheduler,\n",
    "                    num_epochs=25)"
   ]
  },
  {
   "cell_type": "code",
   "execution_count": 11,
   "metadata": {},
   "outputs": [],
   "source": [
    "torch.save(model_ft.state_dict(), 'ct_model_adam_001lr.pt')"
   ]
  },
  {
   "cell_type": "code",
   "execution_count": null,
   "metadata": {},
   "outputs": [],
   "source": []
  }
 ],
 "metadata": {
  "file_extension": ".py",
  "kernelspec": {
   "display_name": "Python 3",
   "language": "python",
   "name": "python3"
  },
  "language_info": {
   "codemirror_mode": {
    "name": "ipython",
    "version": 3
   },
   "file_extension": ".py",
   "mimetype": "text/x-python",
   "name": "python",
   "nbconvert_exporter": "python",
   "pygments_lexer": "ipython3",
   "version": "3.7.4"
  },
  "mimetype": "text/x-python",
  "name": "python",
  "npconvert_exporter": "python",
  "pygments_lexer": "ipython3",
  "version": 3
 },
 "nbformat": 4,
 "nbformat_minor": 2
}