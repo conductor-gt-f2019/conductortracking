{
 "cells": [
  {
   "cell_type": "code",
   "execution_count": 1,
   "metadata": {},
   "outputs": [],
   "source": [
    "import torch\n",
    "import torch.nn as nn\n",
    "import torch.optim as optim\n",
    "from torch.optim import lr_scheduler\n",
    "import numpy as np\n",
    "import torchvision\n",
    "from torchvision import datasets, models, transforms\n",
    "import matplotlib.pyplot as plt\n",
    "import time\n",
    "import os\n",
    "import copy"
   ]
  },
  {
   "cell_type": "markdown",
   "metadata": {},
   "source": [
    "## Setup"
   ]
  },
  {
   "cell_type": "code",
   "execution_count": 2,
   "metadata": {},
   "outputs": [
    {
     "name": "stdout",
     "output_type": "stream",
     "text": "cuda:0\n"
    }
   ],
   "source": [
    "data_transforms = {\n",
    "    'train': transforms.Compose([\n",
    "        transforms.RandomResizedCrop(224),\n",
    "        transforms.ToTensor(),\n",
    "        transforms.Normalize((0.5, 0.5, 0.5), (0.5, 0.5, 0.5))\n",
    "    ]),\n",
    "    'val': transforms.Compose([\n",
    "        transforms.Resize(256),\n",
    "        transforms.CenterCrop(224),\n",
    "        transforms.ToTensor(),\n",
    "        transforms.Normalize((0.5, 0.5, 0.5), (0.5, 0.5, 0.5))\n",
    "    ]),\n",
    "}\n",
    "\n",
    "data_dir = 'data'\n",
    "\n",
    "image_datasets = {x: datasets.ImageFolder(os.path.join(\n",
    "    data_dir, x), data_transforms[x]) for x in ['train', 'val']}\n",
    "\n",
    "dataloaders = {x: torch.utils.data.DataLoader(image_datasets[x], batch_size=4,\n",
    "                                              shuffle=True, num_workers=4)\n",
    "               for x in ['train', 'val']}\n",
    "\n",
    "dataset_sizes = {x: len(image_datasets[x]) for x in ['train', 'val']}\n",
    "class_names = image_datasets['train'].classes\n",
    "\n",
    "device = torch.device(\"cuda:0\" if torch.cuda.is_available() else \"cpu\")\n",
    "print(device)"
   ]
  },
  {
   "cell_type": "code",
   "execution_count": 3,
   "metadata": {},
   "outputs": [],
   "source": [
    "def train_model(model, criterion, optimizer, scheduler, num_epochs=25):\n",
    "    since = time.time()\n",
    "\n",
    "    best_model_wts = copy.deepcopy(model.state_dict())\n",
    "    best_acc = 0.0\n",
    "    best_epoch = 0\n",
    "\n",
    "    # Keep track of training history so we can report on overfitting, etc.\n",
    "    hist = {\n",
    "        \"running_loss\": [],\n",
    "        \"running_acc\": [],\n",
    "        \"val_loss\": [],\n",
    "        \"val_acc\": []\n",
    "    }\n",
    "\n",
    "    for epoch in range(num_epochs):\n",
    "        print('Epoch {}/{}'.format(epoch, num_epochs - 1))\n",
    "        print('-' * 10)\n",
    "\n",
    "\n",
    "        # Each epoch has a training and validation phase\n",
    "        for phase in ['train', 'val']:\n",
    "            if phase == 'train':\n",
    "                model.train()  # Set model to training mode\n",
    "            else:\n",
    "                model.eval()   # Set model to evaluate mode\n",
    "\n",
    "            running_loss = 0.0\n",
    "            running_corrects = 0\n",
    "\n",
    "            # Iterate over data.\n",
    "            for inputs, labels in dataloaders[phase]:\n",
    "                inputs = inputs.to(device)\n",
    "                labels = labels.to(device)\n",
    "\n",
    "                # zero the parameter gradients\n",
    "                optimizer.zero_grad()\n",
    "\n",
    "                # forward\n",
    "                # track history if only in train\n",
    "                with torch.set_grad_enabled(phase == 'train'):\n",
    "                    outputs = model(inputs)\n",
    "                    _, preds = torch.max(outputs, 1)\n",
    "                    loss = criterion(outputs, labels)\n",
    "\n",
    "                    # backward + optimize only if in training phase\n",
    "                    if phase == 'train':\n",
    "                        loss.backward()\n",
    "                        optimizer.step()\n",
    "\n",
    "                # statistics\n",
    "                running_loss += loss.item() * inputs.size(0)\n",
    "                running_corrects += torch.sum(preds == labels.data)\n",
    "            if phase == 'train':\n",
    "                scheduler.step()\n",
    "\n",
    "            epoch_loss = running_loss / dataset_sizes[phase]\n",
    "            epoch_acc = running_corrects.double() / dataset_sizes[phase]\n",
    "\n",
    "            print('{} Loss: {:.4f} Acc: {:.4f}'.format(\n",
    "                phase, epoch_loss, epoch_acc))\n",
    "\n",
    "            if phase == \"train\":\n",
    "                hist['running_loss'].append(epoch_loss)\n",
    "                hist['running_acc'].append(epoch_acc)\n",
    "            elif phase == \"val\":\n",
    "                hist['val_loss'].append(epoch_loss)\n",
    "                hist['val_acc'].append(epoch_acc)\n",
    "\n",
    "            # deep copy the model\n",
    "            if phase == 'val' and epoch_acc > best_acc:\n",
    "                best_acc = epoch_acc\n",
    "                best_model_wts = copy.deepcopy(model.state_dict())\n",
    "                best_epoch = epoch\n",
    "\n",
    "        print()\n",
    "\n",
    "    time_elapsed = time.time() - since\n",
    "    print('Training complete in {:.0f}m {:.0f}s'.format(\n",
    "        time_elapsed // 60, time_elapsed % 60))\n",
    "    # print('Best val Acc: {:4f}'.format(best_acc))\n",
    "    # print('Best model occurred after ' + str(best_epoch) + ' epochs.')\n",
    "\n",
    "    # load best model weights\n",
    "    # model.load_state_dict(best_model_wts)\n",
    "    return model, hist"
   ]
  },
  {
   "cell_type": "markdown",
   "metadata": {},
   "source": [
    "## Run Model"
   ]
  },
  {
   "cell_type": "code",
   "execution_count": 4,
   "metadata": {},
   "outputs": [
    {
     "name": "stdout",
     "output_type": "stream",
     "text": "Epoch 0/19\n----------\ntrain Loss: 0.9700 Acc: 0.5455\nval Loss: 1.0944 Acc: 0.4436\n\nEpoch 1/19\n----------\ntrain Loss: 0.8368 Acc: 0.6332\nval Loss: 0.7765 Acc: 0.6769\n\nEpoch 2/19\n----------\ntrain Loss: 0.6614 Acc: 0.7345\nval Loss: 0.7831 Acc: 0.5744\n\nEpoch 3/19\n----------\ntrain Loss: 0.6380 Acc: 0.7302\nval Loss: 0.9562 Acc: 0.6564\n\nEpoch 4/19\n----------\ntrain Loss: 0.5919 Acc: 0.7586\nval Loss: 0.1914 Acc: 0.9667\n\nEpoch 5/19\n----------\ntrain Loss: 0.5509 Acc: 0.7698\nval Loss: 0.1106 Acc: 0.9692\n\nEpoch 6/19\n----------\ntrain Loss: 0.4832 Acc: 0.7998\nval Loss: 0.1699 Acc: 0.9513\n\nEpoch 7/19\n----------\ntrain Loss: 0.5407 Acc: 0.7749\nval Loss: 0.1879 Acc: 0.9462\n\nEpoch 8/19\n----------\ntrain Loss: 0.4972 Acc: 0.7912\nval Loss: 0.1395 Acc: 0.9718\n\nEpoch 9/19\n----------\ntrain Loss: 0.4785 Acc: 0.7904\nval Loss: 0.0509 Acc: 0.9872\n\nEpoch 10/19\n----------\ntrain Loss: 0.3899 Acc: 0.8419\nval Loss: 0.0357 Acc: 0.9949\n\nEpoch 11/19\n----------\ntrain Loss: 0.3871 Acc: 0.8479\nval Loss: 0.0308 Acc: 0.9974\n\nEpoch 12/19\n----------\ntrain Loss: 0.3600 Acc: 0.8574\nval Loss: 0.0436 Acc: 0.9923\n\nEpoch 13/19\n----------\ntrain Loss: 0.3605 Acc: 0.8514\nval Loss: 0.0253 Acc: 0.9949\n\nEpoch 14/19\n----------\ntrain Loss: 0.3482 Acc: 0.8608\nval Loss: 0.0180 Acc: 0.9974\n\nEpoch 15/19\n----------\ntrain Loss: 0.3379 Acc: 0.8548\nval Loss: 0.0319 Acc: 0.9974\n\nEpoch 16/19\n----------\ntrain Loss: 0.3140 Acc: 0.8806\nval Loss: 0.0225 Acc: 0.9949\n\nEpoch 17/19\n----------\ntrain Loss: 0.3324 Acc: 0.8686\nval Loss: 0.0178 Acc: 0.9974\n\nEpoch 18/19\n----------\ntrain Loss: 0.3049 Acc: 0.8754\nval Loss: 0.0235 Acc: 0.9949\n\nEpoch 19/19\n----------\ntrain Loss: 0.3392 Acc: 0.8686\nval Loss: 0.0156 Acc: 0.9974\n\nTraining complete in 7m 38s\n"
    }
   ],
   "source": [
    "# Load pretrained resnet18 model\n",
    "model_ft = models.resnet18(pretrained=True)\n",
    "num_ftrs = model_ft.fc.in_features\n",
    "# Set number of output features to 3 (\"2_2\", \"3_4\", \"4_4\")\n",
    "model_ft.fc = nn.Linear(num_ftrs, 3)\n",
    "\n",
    "model_ft = model_ft.to(device)\n",
    "criterion = nn.CrossEntropyLoss()\n",
    "optimizer_ft = optim.Adam(model_ft.parameters(), lr=0.001)\n",
    "exp_lr_scheduler = lr_scheduler.StepLR(optimizer_ft, step_size=10, gamma=0.1)\n",
    "model_ft, hist = train_model(model_ft, criterion, optimizer_ft, exp_lr_scheduler,\n",
    "                    num_epochs=20)"
   ]
  },
  {
   "cell_type": "code",
   "execution_count": 5,
   "metadata": {},
   "outputs": [],
   "source": [
    "torch.save(model_ft.state_dict(), 'ct_model_adam_001lr3.pt')"
   ]
  },
  {
   "cell_type": "code",
   "execution_count": null,
   "metadata": {},
   "outputs": [],
   "source": []
  }
 ],
 "metadata": {
  "file_extension": ".py",
  "kernelspec": {
   "display_name": "Python 3",
   "language": "python",
   "name": "python3"
  },
  "language_info": {
   "codemirror_mode": {
    "name": "ipython",
    "version": 3
   },
   "file_extension": ".py",
   "mimetype": "text/x-python",
   "name": "python",
   "nbconvert_exporter": "python",
   "pygments_lexer": "ipython3",
   "version": "3.7.4"
  },
  "mimetype": "text/x-python",
  "name": "python",
  "npconvert_exporter": "python",
  "pygments_lexer": "ipython3",
  "version": 3
 },
 "nbformat": 4,
 "nbformat_minor": 2
}